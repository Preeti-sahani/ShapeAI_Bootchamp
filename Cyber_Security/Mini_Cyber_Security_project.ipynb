{
  "nbformat": 4,
  "nbformat_minor": 0,
  "metadata": {
    "colab": {
      "name": "Mini_Cyber_Security_project.ipynb",
      "provenance": []
    },
    "kernelspec": {
      "name": "python3",
      "display_name": "Python 3"
    },
    "language_info": {
      "name": "python"
    }
  },
  "cells": [
    {
      "cell_type": "code",
      "metadata": {
        "id": "FBJTDYnQdpbC"
      },
      "source": [
        "\n",
        "!mkdir my_project\n",
        "\n",
        "import requests\n",
        "from datetime import datetime "
      ],
      "execution_count": 1,
      "outputs": []
    },
    {
      "cell_type": "code",
      "metadata": {
        "colab": {
          "base_uri": "https://localhost:8080/"
        },
        "id": "hULdF5AjdqV6",
        "outputId": "2679538f-15b5-4af0-a12d-b28ba421e0db"
      },
      "source": [
        "api_key = '8c892d38417cd70d5fdc678309abeb6a'\n",
        "location = input(\"Enter the city name; \")"
      ],
      "execution_count": 2,
      "outputs": [
        {
          "name": "stdout",
          "output_type": "stream",
          "text": [
            "Enter the city name; Mumbai\n"
          ]
        }
      ]
    },
    {
      "cell_type": "code",
      "metadata": {
        "id": "pQ_di06Qdu-_"
      },
      "source": [
        "compelet_api_link = \"https://api.openweathermap.org/data/2.5/weather?q=\"+location+\"&appid=\"+api_key\n",
        "\n",
        "api_link = requests.get(compelet_api_link)\n",
        "api_data = api_link.json()"
      ],
      "execution_count": 3,
      "outputs": []
    },
    {
      "cell_type": "code",
      "metadata": {
        "colab": {
          "base_uri": "https://localhost:8080/"
        },
        "id": "qn2DaNY9dx5W",
        "outputId": "cccef44c-af36-47d9-a48f-10ae9a06a959"
      },
      "source": [
        "temp_city = ((api_data['main']['temp']) - 273.15)\n",
        "weather_desc = api_data['weather'][0]['description']\n",
        "hmdt = api_data['main']['humidity']\n",
        "wind_spd = api_data['wind']['speed']\n",
        "date_time = datetime.now().strftime (\"%d %b %Y % I: % M: %S %p\")\n",
        "print (\"-----------------------------------------------------\")"
      ],
      "execution_count": 4,
      "outputs": [
        {
          "output_type": "stream",
          "name": "stdout",
          "text": [
            "-----------------------------------------------------\n"
          ]
        }
      ]
    },
    {
      "cell_type": "code",
      "metadata": {
        "colab": {
          "base_uri": "https://localhost:8080/"
        },
        "id": "q7Zctqi0d38D",
        "outputId": "6e2a821a-fd1f-4ea3-eaa2-a7ebf5faa4dd"
      },
      "source": [
        "\n",
        "print (\"Weather Stats for {} || {}\".format(location.upper(), date_time))\n",
        "print (\"-----------------------------------------------------\")"
      ],
      "execution_count": 5,
      "outputs": [
        {
          "output_type": "stream",
          "name": "stdout",
          "text": [
            "Weather Stats for MUMBAI || 24 Sep 2021 % I: % M: 53 PM\n",
            "-----------------------------------------------------\n"
          ]
        }
      ]
    },
    {
      "cell_type": "code",
      "metadata": {
        "colab": {
          "base_uri": "https://localhost:8080/"
        },
        "id": "A-2E3Iwrd83X",
        "outputId": "b800fb5a-7b6e-40b4-90a8-fc57139696b2"
      },
      "source": [
        "print (\"Current temperature is: {:.2f} deg C\".format(temp_city)) \n",
        "print (\"Current weather desc :\",weather_desc)\n",
        "print (\"Current Humidity :\", hmdt, '%')\n",
        "print (\"Current wind speed :\",wind_spd, 'kmph')"
      ],
      "execution_count": 6,
      "outputs": [
        {
          "output_type": "stream",
          "name": "stdout",
          "text": [
            "Current temperature is: 27.99 deg C\n",
            "Current weather desc : haze\n",
            "Current Humidity : 83 %\n",
            "Current wind speed : 2.57 kmph\n"
          ]
        }
      ]
    }
  ]
}